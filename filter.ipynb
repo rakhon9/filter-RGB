{
 "cells": [
  {
   "cell_type": "code",
   "execution_count": 16,
   "id": "3137446f-a953-4807-aa43-335829c26ecb",
   "metadata": {},
   "outputs": [
    {
     "name": "stdout",
     "output_type": "stream",
     "text": [
      "Grayscale Image Paths:\n"
     ]
    }
   ],
   "source": [
    "import os\n",
    "from PIL import Image\n",
    "\n",
    "def is_grayscale_image(file_path):\n",
    "    try:\n",
    "        img = Image.open(file_path)\n",
    "        if img.mode == 'L':\n",
    "            return True\n",
    "        return False\n",
    "    except Exception as e:\n",
    "        return False\n",
    "\n",
    "def filter_grayscale_images(folder_path):\n",
    "    grayscale_image_paths = []\n",
    "    for root, dirs, files in os.walk(folder_path):\n",
    "        for file_name in files:\n",
    "            file_path = os.path.join(root, file_name)\n",
    "            if is_grayscale_image(file_path):\n",
    "                grayscale_image_paths.append(file_path)\n",
    "    return grayscale_image_paths\n",
    "\n",
    "dataset_folder = \"emart\"\n",
    "grayscale_image_paths = filter_grayscale_images(dataset_folder)\n",
    "\n",
    "#I have printed out grayscale image file paths and deleted that images by hand.\n",
    "print(\"Grayscale Image Paths:\")\n",
    "for path in grayscale_image_paths:\n",
    "    print(path)"
   ]
  },
  {
   "cell_type": "code",
   "execution_count": 2,
   "id": "0b35ebac-ed03-44c9-9ab5-bf85b72f8611",
   "metadata": {},
   "outputs": [
    {
     "name": "stdout",
     "output_type": "stream",
     "text": [
      "Note: you may need to restart the kernel to use updated packages.\n"
     ]
    },
    {
     "name": "stderr",
     "output_type": "stream",
     "text": [
      "ERROR: Could not find a version that satisfies the requirement cv2 (from versions: none)\n",
      "ERROR: No matching distribution found for cv2\n"
     ]
    }
   ],
   "source": [
    "#pip install cv2"
   ]
  },
  {
   "cell_type": "code",
   "execution_count": 3,
   "id": "e5454d56-4b0b-42e7-9ff6-669ceb297182",
   "metadata": {},
   "outputs": [
    {
     "name": "stdout",
     "output_type": "stream",
     "text": [
      "Collecting opencv-python\n",
      "  Downloading opencv_python-4.9.0.80-cp37-abi3-win_amd64.whl.metadata (20 kB)\n",
      "Requirement already satisfied: numpy>=1.21.2 in c:\\users\\palmcove\\anaconda3\\lib\\site-packages (from opencv-python) (1.26.4)\n",
      "Downloading opencv_python-4.9.0.80-cp37-abi3-win_amd64.whl (38.6 MB)\n",
      "   ---------------------------------------- 0.0/38.6 MB ? eta -:--:--\n",
      "   ---------------------------------------- 0.1/38.6 MB 1.6 MB/s eta 0:00:25\n",
      "    --------------------------------------- 0.5/38.6 MB 6.7 MB/s eta 0:00:06\n",
      "   - -------------------------------------- 1.0/38.6 MB 8.3 MB/s eta 0:00:05\n",
      "   - -------------------------------------- 1.0/38.6 MB 8.3 MB/s eta 0:00:05\n",
      "   - -------------------------------------- 1.0/38.6 MB 8.3 MB/s eta 0:00:05\n",
      "   - -------------------------------------- 1.0/38.6 MB 8.3 MB/s eta 0:00:05\n",
      "   - -------------------------------------- 1.0/38.6 MB 8.3 MB/s eta 0:00:05\n",
      "   - -------------------------------------- 1.0/38.6 MB 8.3 MB/s eta 0:00:05\n",
      "   - -------------------------------------- 1.3/38.6 MB 3.1 MB/s eta 0:00:13\n",
      "   - -------------------------------------- 1.8/38.6 MB 4.0 MB/s eta 0:00:10\n",
      "   -- ------------------------------------- 2.4/38.6 MB 4.7 MB/s eta 0:00:08\n",
      "   --- ------------------------------------ 2.9/38.6 MB 5.3 MB/s eta 0:00:07\n",
      "   --- ------------------------------------ 3.3/38.6 MB 5.8 MB/s eta 0:00:07\n",
      "   ---- ----------------------------------- 4.0/38.6 MB 6.2 MB/s eta 0:00:06\n",
      "   ---- ----------------------------------- 4.5/38.6 MB 6.6 MB/s eta 0:00:06\n",
      "   ----- ---------------------------------- 5.1/38.6 MB 6.9 MB/s eta 0:00:05\n",
      "   ----- ---------------------------------- 5.2/38.6 MB 7.1 MB/s eta 0:00:05\n",
      "   ----- ---------------------------------- 5.2/38.6 MB 7.1 MB/s eta 0:00:05\n",
      "   ----- ---------------------------------- 5.2/38.6 MB 7.1 MB/s eta 0:00:05\n",
      "   ----- ---------------------------------- 5.3/38.6 MB 5.7 MB/s eta 0:00:06\n",
      "   ------ --------------------------------- 5.8/38.6 MB 6.0 MB/s eta 0:00:06\n",
      "   ------ --------------------------------- 6.4/38.6 MB 6.4 MB/s eta 0:00:06\n",
      "   ------- -------------------------------- 7.0/38.6 MB 6.5 MB/s eta 0:00:05\n",
      "   ------- -------------------------------- 7.5/38.6 MB 6.8 MB/s eta 0:00:05\n",
      "   -------- ------------------------------- 8.1/38.6 MB 7.0 MB/s eta 0:00:05\n",
      "   -------- ------------------------------- 8.6/38.6 MB 7.2 MB/s eta 0:00:05\n",
      "   --------- ------------------------------ 9.2/38.6 MB 7.3 MB/s eta 0:00:05\n",
      "   ---------- ----------------------------- 9.7/38.6 MB 7.5 MB/s eta 0:00:04\n",
      "   ---------- ----------------------------- 10.3/38.6 MB 7.8 MB/s eta 0:00:04\n",
      "   ----------- ---------------------------- 10.9/38.6 MB 7.8 MB/s eta 0:00:04\n",
      "   ----------- ---------------------------- 11.4/38.6 MB 9.9 MB/s eta 0:00:03\n",
      "   ------------ --------------------------- 12.0/38.6 MB 9.8 MB/s eta 0:00:03\n",
      "   ------------ --------------------------- 12.5/38.6 MB 9.8 MB/s eta 0:00:03\n",
      "   ------------- -------------------------- 13.0/38.6 MB 9.8 MB/s eta 0:00:03\n",
      "   -------------- ------------------------- 13.6/38.6 MB 9.9 MB/s eta 0:00:03\n",
      "   -------------- ------------------------- 13.8/38.6 MB 9.6 MB/s eta 0:00:03\n",
      "   -------------- ------------------------- 14.3/38.6 MB 9.5 MB/s eta 0:00:03\n",
      "   --------------- ------------------------ 14.8/38.6 MB 9.6 MB/s eta 0:00:03\n",
      "   --------------- ------------------------ 15.0/38.6 MB 9.2 MB/s eta 0:00:03\n",
      "   ---------------- ----------------------- 15.5/38.6 MB 10.7 MB/s eta 0:00:03\n",
      "   ---------------- ----------------------- 16.0/38.6 MB 10.7 MB/s eta 0:00:03\n",
      "   ----------------- ---------------------- 16.6/38.6 MB 10.7 MB/s eta 0:00:03\n",
      "   ----------------- ---------------------- 17.2/38.6 MB 10.7 MB/s eta 0:00:02\n",
      "   ------------------ --------------------- 17.7/38.6 MB 10.7 MB/s eta 0:00:02\n",
      "   ------------------ --------------------- 18.3/38.6 MB 10.7 MB/s eta 0:00:02\n",
      "   ------------------- -------------------- 18.8/38.6 MB 10.7 MB/s eta 0:00:02\n",
      "   -------------------- ------------------- 19.4/38.6 MB 10.7 MB/s eta 0:00:02\n",
      "   -------------------- ------------------- 19.9/38.6 MB 10.7 MB/s eta 0:00:02\n",
      "   -------------------- ------------------- 19.9/38.6 MB 10.7 MB/s eta 0:00:02\n",
      "   -------------------- ------------------- 19.9/38.6 MB 10.7 MB/s eta 0:00:02\n",
      "   -------------------- ------------------- 19.9/38.6 MB 10.7 MB/s eta 0:00:02\n",
      "   --------------------- ------------------ 20.5/38.6 MB 9.4 MB/s eta 0:00:02\n",
      "   --------------------- ------------------ 21.0/38.6 MB 9.4 MB/s eta 0:00:02\n",
      "   ---------------------- ----------------- 21.5/38.6 MB 9.4 MB/s eta 0:00:02\n",
      "   ---------------------- ----------------- 22.1/38.6 MB 9.4 MB/s eta 0:00:02\n",
      "   ----------------------- ---------------- 22.7/38.6 MB 9.4 MB/s eta 0:00:02\n",
      "   ------------------------ --------------- 23.2/38.6 MB 9.4 MB/s eta 0:00:02\n",
      "   ------------------------ --------------- 23.8/38.6 MB 9.4 MB/s eta 0:00:02\n",
      "   ------------------------- -------------- 24.3/38.6 MB 9.8 MB/s eta 0:00:02\n",
      "   ------------------------- -------------- 24.4/38.6 MB 9.4 MB/s eta 0:00:02\n",
      "   ------------------------- -------------- 24.9/38.6 MB 9.4 MB/s eta 0:00:02\n",
      "   -------------------------- ------------- 25.4/38.6 MB 9.6 MB/s eta 0:00:02\n",
      "   -------------------------- ------------- 26.0/38.6 MB 9.6 MB/s eta 0:00:02\n",
      "   --------------------------- ------------ 26.6/38.6 MB 9.6 MB/s eta 0:00:02\n",
      "   ---------------------------- ----------- 27.1/38.6 MB 9.6 MB/s eta 0:00:02\n",
      "   ---------------------------- ----------- 27.6/38.6 MB 9.6 MB/s eta 0:00:02\n",
      "   ----------------------------- ---------- 28.2/38.6 MB 9.6 MB/s eta 0:00:02\n",
      "   ----------------------------- ---------- 28.8/38.6 MB 9.6 MB/s eta 0:00:02\n",
      "   ------------------------------ --------- 29.3/38.6 MB 9.6 MB/s eta 0:00:01\n",
      "   ------------------------------ --------- 29.9/38.6 MB 9.6 MB/s eta 0:00:01\n",
      "   ------------------------------- -------- 30.4/38.6 MB 11.1 MB/s eta 0:00:01\n",
      "   -------------------------------- ------- 31.0/38.6 MB 11.1 MB/s eta 0:00:01\n",
      "   -------------------------------- ------- 31.5/38.6 MB 11.1 MB/s eta 0:00:01\n",
      "   --------------------------------- ------ 32.1/38.6 MB 11.1 MB/s eta 0:00:01\n",
      "   --------------------------------- ------ 32.6/38.6 MB 11.1 MB/s eta 0:00:01\n",
      "   ---------------------------------- ----- 33.2/38.6 MB 11.1 MB/s eta 0:00:01\n",
      "   ---------------------------------- ----- 33.8/38.6 MB 11.1 MB/s eta 0:00:01\n",
      "   ----------------------------------- ---- 34.3/38.6 MB 11.1 MB/s eta 0:00:01\n",
      "   ------------------------------------ --- 34.8/38.6 MB 11.7 MB/s eta 0:00:01\n",
      "   ------------------------------------ --- 35.4/38.6 MB 11.7 MB/s eta 0:00:01\n",
      "   ------------------------------------ --- 35.6/38.6 MB 11.7 MB/s eta 0:00:01\n",
      "   ------------------------------------- -- 36.0/38.6 MB 11.3 MB/s eta 0:00:01\n",
      "   ------------------------------------- -- 36.6/38.6 MB 11.3 MB/s eta 0:00:01\n",
      "   -------------------------------------- - 37.1/38.6 MB 11.3 MB/s eta 0:00:01\n",
      "   ---------------------------------------  37.7/38.6 MB 11.1 MB/s eta 0:00:01\n",
      "   ---------------------------------------  38.2/38.6 MB 11.3 MB/s eta 0:00:01\n",
      "   ---------------------------------------  38.6/38.6 MB 11.3 MB/s eta 0:00:01\n",
      "   ---------------------------------------  38.6/38.6 MB 11.3 MB/s eta 0:00:01\n",
      "   ---------------------------------------  38.6/38.6 MB 11.3 MB/s eta 0:00:01\n",
      "   ---------------------------------------- 38.6/38.6 MB 9.8 MB/s eta 0:00:00\n",
      "Installing collected packages: opencv-python\n",
      "Successfully installed opencv-python-4.9.0.80\n",
      "Note: you may need to restart the kernel to use updated packages.\n"
     ]
    }
   ],
   "source": [
    "#pip install opencv-python"
   ]
  },
  {
   "cell_type": "code",
   "execution_count": 4,
   "id": "e93c7f89-4b7d-40a1-b32b-04fd2726ecc2",
   "metadata": {},
   "outputs": [
    {
     "name": "stdout",
     "output_type": "stream",
     "text": [
      "Requirement already satisfied: tqdm in c:\\users\\palmcove\\anaconda3\\lib\\site-packages (4.65.0)\n",
      "Requirement already satisfied: colorama in c:\\users\\palmcove\\anaconda3\\lib\\site-packages (from tqdm) (0.4.6)\n",
      "Note: you may need to restart the kernel to use updated packages.\n"
     ]
    }
   ],
   "source": [
    "#pip install tqdm"
   ]
  },
  {
   "cell_type": "code",
   "execution_count": null,
   "id": "35a21ef0-8f9e-4bbc-b8e0-cbab0eac7024",
   "metadata": {},
   "outputs": [],
   "source": []
  },
  {
   "cell_type": "code",
   "execution_count": null,
   "id": "4d67f0ad-02a6-466c-b65c-d9495f114456",
   "metadata": {},
   "outputs": [],
   "source": []
  }
 ],
 "metadata": {
  "kernelspec": {
   "display_name": "Python 3 (ipykernel)",
   "language": "python",
   "name": "python3"
  },
  "language_info": {
   "codemirror_mode": {
    "name": "ipython",
    "version": 3
   },
   "file_extension": ".py",
   "mimetype": "text/x-python",
   "name": "python",
   "nbconvert_exporter": "python",
   "pygments_lexer": "ipython3",
   "version": "3.11.7"
  }
 },
 "nbformat": 4,
 "nbformat_minor": 5
}
